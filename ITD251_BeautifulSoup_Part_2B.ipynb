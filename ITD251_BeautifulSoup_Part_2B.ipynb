{
 "cells": [
  {
   "cell_type": "markdown",
   "metadata": {},
   "source": [
    "<p style=\"font-family: Arial; font-size:3.75em;color:red; font-style:bold\"><br>\n",
    "Beautiful Soup Test Part 2</p>\n",
    "\n",
    "<span style=\"font-size:2em;\">You are given empty code cells and the expected output . \n",
    "The final submission will be this jupyter notebook with the code filled in.\n",
    "\n",
    "<span style=\"font-size:2em;\">The total marks for this section is 20 marks.\n"
   ]
  },
  {
   "cell_type": "markdown",
   "metadata": {},
   "source": [
    "<span style=\"font-size:2em;\">Importing libraries"
   ]
  },
  {
   "cell_type": "code",
   "execution_count": 59,
   "metadata": {
    "collapsed": true
   },
   "outputs": [],
   "source": [
    "from bs4 import BeautifulSoup\n",
    "from urllib.request import urlopen\n",
    "import re"
   ]
  },
  {
   "cell_type": "markdown",
   "metadata": {},
   "source": [
    "<span style=\"font-size:2em;\">Some urls that will be used in this exercise"
   ]
  },
  {
   "cell_type": "code",
   "execution_count": 1,
   "metadata": {},
   "outputs": [],
   "source": [
    "rootUrl = \"https://en.wikipedia.org\"\n",
    "mainUrl = \"https://en.wikipedia.org/wiki/List_of_sovereign_states\""
   ]
  },
  {
   "cell_type": "markdown",
   "metadata": {},
   "source": [
    "<span style=\"font-size:2em;\">a) Use urlopen to open mainUrl. (1 mark)\n",
    "\n",
    "<span style=\"font-size:2em;\">b) Use BeautifulSoup to parse the page. (1 mark)"
   ]
  },
  {
   "cell_type": "code",
   "execution_count": 5,
   "metadata": {},
   "outputs": [],
   "source": [
    "#urlopen and parse the page using BeautifulSoup"
   ]
  },
  {
   "cell_type": "markdown",
   "metadata": {},
   "source": [
    "<span style=\"font-size:2em;\">c) Find the span element with an id of \"List_of_states\", assign it to a variable called listOfStatesSpan and print it out. (1 mark)"
   ]
  },
  {
   "cell_type": "code",
   "execution_count": 9,
   "metadata": {},
   "outputs": [
    {
     "name": "stdout",
     "output_type": "stream",
     "text": [
      "<span class=\"mw-headline\" id=\"List_of_states\">List of states</span>\n"
     ]
    }
   ],
   "source": [
    ""
   ]
  },
  {
   "cell_type": "markdown",
   "metadata": {},
   "source": [
    "<span style=\"font-size:2em;\">d) Find all the trs in the table right after listOfStatesSpan, and assign the list to a variable listOfStates. Assign the 5th to the 7th elements of this list (i.e. Afghanistan, Albania and Algeria) to a variable called chosenList. Print out chosenList (5 marks)"
   ]
  },
  {
   "cell_type": "code",
   "execution_count": 23,
   "metadata": {},
   "outputs": [
    {
     "name": "stdout",
     "output_type": "stream",
     "text": [
      "[<tr>\n<td style=\"vertical-align:top;\"><span id=\"Afghanistan\"></span><b><span class=\"flagicon\"><img alt=\"\" class=\"thumbborder\" data-file-height=\"300\" data-file-width=\"450\" height=\"15\" src=\"//upload.wikimedia.org/wikipedia/commons/thumb/9/9a/Flag_of_Afghanistan.svg/23px-Flag_of_Afghanistan.svg.png\" srcset=\"//upload.wikimedia.org/wikipedia/commons/thumb/9/9a/Flag_of_Afghanistan.svg/35px-Flag_of_Afghanistan.svg.png 1.5x, //upload.wikimedia.org/wikipedia/commons/thumb/9/9a/Flag_of_Afghanistan.svg/45px-Flag_of_Afghanistan.svg.png 2x\" width=\"23\"/> </span><a href=\"/wiki/Afghanistan\" title=\"Afghanistan\">Afghanistan</a></b> – Islamic Republic of Afghanistan\n</td>\n<td><span style=\"display:none\">A</span> <a href=\"/wiki/Member_states_of_the_United_Nations\" title=\"Member states of the United Nations\">UN member state</a>\n</td>\n<td><span style=\"display:none\">A</span> None\n</td>\n<td style=\"text-align:left; vertical-align:top; font-size:90%;\">\n</td></tr>, <tr>\n<td style=\"vertical-align:top;\"><span id=\"Albania\"></span><b><span class=\"flagicon\"><img alt=\"\" class=\"thumbborder\" data-file-height=\"500\" data-file-width=\"700\" height=\"15\" src=\"//upload.wikimedia.org/wikipedia/commons/thumb/3/36/Flag_of_Albania.svg/21px-Flag_of_Albania.svg.png\" srcset=\"//upload.wikimedia.org/wikipedia/commons/thumb/3/36/Flag_of_Albania.svg/32px-Flag_of_Albania.svg.png 1.5x, //upload.wikimedia.org/wikipedia/commons/thumb/3/36/Flag_of_Albania.svg/42px-Flag_of_Albania.svg.png 2x\" width=\"21\"/> </span><a href=\"/wiki/Albania\" title=\"Albania\">Albania</a></b> – Republic of Albania\n</td>\n<td><span style=\"display:none\">A</span> UN member state\n</td>\n<td><span style=\"display:none\">A</span> None\n</td>\n<td style=\"text-align:left; vertical-align:top; font-size:90%;\">\n</td></tr>, <tr>\n<td style=\"vertical-align:top;\"><span id=\"Algeria\"></span><b><span class=\"flagicon\"><img alt=\"\" class=\"thumbborder\" data-file-height=\"600\" data-file-width=\"900\" height=\"15\" src=\"//upload.wikimedia.org/wikipedia/commons/thumb/7/77/Flag_of_Algeria.svg/23px-Flag_of_Algeria.svg.png\" srcset=\"//upload.wikimedia.org/wikipedia/commons/thumb/7/77/Flag_of_Algeria.svg/35px-Flag_of_Algeria.svg.png 1.5x, //upload.wikimedia.org/wikipedia/commons/thumb/7/77/Flag_of_Algeria.svg/45px-Flag_of_Algeria.svg.png 2x\" width=\"23\"/> </span><a href=\"/wiki/Algeria\" title=\"Algeria\">Algeria</a></b> – People's Democratic Republic of Algeria\n</td>\n<td><span style=\"display:none\">A</span> UN member state\n</td>\n<td><span style=\"display:none\">A</span> None\n</td>\n<td style=\"text-align:left; vertical-align:top; font-size:90%;\">\n</td></tr>]\n"
     ]
    }
   ],
   "source": [
    ""
   ]
  },
  {
   "cell_type": "markdown",
   "metadata": {},
   "source": [
    "<span style=\"font-size:2em;\">e) Assign the url of the first state in chosenList to a variable called firstState and print it out. (2 marks)"
   ]
  },
  {
   "cell_type": "code",
   "execution_count": 25,
   "metadata": {},
   "outputs": [
    {
     "name": "stdout",
     "output_type": "stream",
     "text": [
      "https://en.wikipedia.org/wiki/Afghanistan\n"
     ]
    }
   ],
   "source": [
    ""
   ]
  },
  {
   "cell_type": "markdown",
   "metadata": {},
   "source": [
    "<span style=\"font-size:2em;\">f) Use urlopen to open firstState and parse it with BeautifulSoup. Assign the soup object to a variable called newSoup. (1 mark)"
   ]
  },
  {
   "cell_type": "code",
   "execution_count": 26,
   "metadata": {},
   "outputs": [],
   "source": [
    ""
   ]
  },
  {
   "cell_type": "markdown",
   "metadata": {},
   "source": [
    "<span style=\"font-size:2em;\">g) In newSoup, find the table with the class \"infobox\". Assign the element containing the word \"city\" in this table to th variable cityElem and print it out. (3 marks)"
   ]
  },
  {
   "cell_type": "code",
   "execution_count": 48,
   "metadata": {},
   "outputs": [
    {
     "name": "stdout",
     "output_type": "stream",
     "text": [
      "<span style=\"font-weight:normal\">and largest city</span>\n"
     ]
    }
   ],
   "source": [
    ""
   ]
  },
  {
   "cell_type": "markdown",
   "metadata": {},
   "source": [
    "<span style=\"font-size:2em;\">h) Using cityElem, find the a tag containing the actual name of the capital city, assign it to a variable capitalCity and print it out. (2 marks)"
   ]
  },
  {
   "cell_type": "code",
   "execution_count": 54,
   "metadata": {},
   "outputs": [
    {
     "name": "stdout",
     "output_type": "stream",
     "text": [
      "<a href=\"/wiki/Kabul\" title=\"Kabul\">Kabul</a>\n"
     ]
    }
   ],
   "source": [
    ""
   ]
  },
  {
   "cell_type": "markdown",
   "metadata": {},
   "source": [
    "<span style=\"font-size:2em;\">f) Create an empty list called \"capitalCities\". Loop through all the urls found in chosenList to extract out the names of the capital cities and append it to the list \"capitalCities\".\n",
    "\n",
    "<span style=\"font-size:2em;\">Print it out. (4 marks)"
   ]
  },
  {
   "cell_type": "code",
   "execution_count": 58,
   "metadata": {},
   "outputs": [
    {
     "name": "stdout",
     "output_type": "stream",
     "text": [
      "['Kabul', 'Tirana', 'Algiers']\n"
     ]
    }
   ],
   "source": [
    ""
   ]
  }
 ],
 "metadata": {
  "kernelspec": {
   "display_name": "Python 2",
   "language": "python",
   "name": "python2"
  },
  "language_info": {
   "codemirror_mode": {
    "name": "ipython",
    "version": 2
   },
   "file_extension": ".py",
   "mimetype": "text/x-python",
   "name": "python",
   "nbconvert_exporter": "python",
   "pygments_lexer": "ipython2",
   "version": "2.7.6"
  }
 },
 "nbformat": 4,
 "nbformat_minor": 0
}
