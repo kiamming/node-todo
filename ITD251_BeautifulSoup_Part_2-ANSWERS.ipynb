{
 "cells": [
  {
   "cell_type": "markdown",
   "metadata": {},
   "source": [
    "<p style=\"font-family: Arial; font-size:3.75em;color:red; font-style:bold\"><br>\n",
    "Beautiful Soup Test Part 2</p>\n",
    "\n",
    "<span style=\"font-size:2em;\">You are given empty code cells and the expected output . \n",
    "The final submission will be this jupyter notebook with the code filled in.\n",
    "\n",
    "<span style=\"font-size:2em;\">The total marks for this section is 20 marks.\n"
   ]
  },
  {
   "cell_type": "markdown",
   "metadata": {},
   "source": [
    "<span style=\"font-size:2em;\">Importing libraries"
   ]
  },
  {
   "cell_type": "code",
   "execution_count": 1,
   "metadata": {
    "collapsed": true
   },
   "outputs": [],
   "source": [
    "from bs4 import BeautifulSoup\n",
    "from urllib.request import urlopen"
   ]
  },
  {
   "cell_type": "markdown",
   "metadata": {},
   "source": [
    "<span style=\"font-size:2em;\">Some urls that will be used in this exercise"
   ]
  },
  {
   "cell_type": "code",
   "execution_count": 2,
   "metadata": {},
   "outputs": [],
   "source": [
    "rootUrl = \"https://en.wikipedia.org\"\n",
    "mainUrl = \"https://en.wikipedia.org/wiki/List_of_sharks\""
   ]
  },
  {
   "cell_type": "markdown",
   "metadata": {},
   "source": [
    "<span style=\"font-size:2em;\">a) Use urlopen to open mainUrl. (1 mark)\n",
    "\n",
    "<span style=\"font-size:2em;\">b) Use BeautifulSoup to parse the page. (1 mark)"
   ]
  },
  {
   "cell_type": "code",
   "execution_count": 3,
   "metadata": {},
   "outputs": [],
   "source": [
    "html_doc  = urlopen(mainUrl)\n",
    "\n",
    "soup = BeautifulSoup(html_doc, \"html.parser\")"
   ]
  },
  {
   "cell_type": "markdown",
   "metadata": {},
   "source": [
    "<span style=\"font-size:2em;\">c) Find the span element with an id of \"Alphabetic_sort\" and print it out. (1 mark)"
   ]
  },
  {
   "cell_type": "code",
   "execution_count": 33,
   "metadata": {},
   "outputs": [
    {
     "name": "stdout",
     "output_type": "stream",
     "text": [
      "<span class=\"mw-headline\" id=\"Alphabetic_sort\">Alphabetic sort</span>\n"
     ]
    }
   ],
   "source": [
    "alphaSort = soup.find(\"span\", {'id': \"Alphabetic_sort\"})\n",
    "print(alphaSort)"
   ]
  },
  {
   "cell_type": "markdown",
   "metadata": {},
   "source": [
    "<span style=\"font-size:2em;\">d) Find the list of sharks that start with 'D' and assign it to the variable listOfSharks. Print it out. (5 marks)"
   ]
  },
  {
   "cell_type": "code",
   "execution_count": 34,
   "metadata": {},
   "outputs": [
    {
     "name": "stdout",
     "output_type": "stream",
     "text": [
      "<ul>\n<li><a href=\"/wiki/Daggernose_shark\" title=\"Daggernose shark\">Daggernose shark</a></li>\n<li><a href=\"/wiki/Dark_freckled_catshark\" title=\"Dark freckled catshark\">Dark freckled catshark</a></li>\n<li><a href=\"/wiki/Dark_shyshark\" title=\"Dark shyshark\">Dark shyshark</a></li>\n<li><a href=\"/wiki/Deepwater_catshark\" title=\"Deepwater catshark\">Deepwater catshark</a></li>\n<li><a href=\"/wiki/Deepwater_sicklefin_houndshark\" title=\"Deepwater sicklefin houndshark\">Deepwater sicklefin houndshark</a></li>\n<li><a href=\"/wiki/Dense-scale_lantern_shark\" title=\"Dense-scale lantern shark\">Dense-scale lantern shark</a></li>\n<li><a href=\"/wiki/Disparate_angelshark\" title=\"Disparate angelshark\">Disparate angelshark</a></li>\n<li><a href=\"/wiki/Draughtsboard_shark\" title=\"Draughtsboard shark\">Draughtsboard shark</a></li>\n<li><a href=\"/wiki/Dumb_gulper_shark\" title=\"Dumb gulper shark\">Dumb gulper shark</a></li>\n<li><a href=\"/wiki/Dusky_catshark\" title=\"Dusky catshark\">Dusky catshark</a></li>\n<li><a href=\"/wiki/Dusky_shark\" title=\"Dusky shark\">Dusky shark</a></li>\n<li><a href=\"/wiki/Dusky_smooth-hound\" title=\"Dusky smooth-hound\">Dusky smooth-hound</a></li>\n<li><a href=\"/wiki/Dusky_snout_catshark\" title=\"Dusky snout catshark\">Dusky snout catshark</a></li>\n<li><a href=\"/wiki/Dwarf_catshark\" title=\"Dwarf catshark\">Dwarf catshark</a></li>\n<li><a href=\"/wiki/Dwarf_catshark\" title=\"Dwarf catshark\">Dwarf catshark</a></li>\n<li><a href=\"/wiki/Dwarf_false_catshark\" title=\"Dwarf false catshark\">Dwarf false catshark</a></li>\n<li><a href=\"/wiki/Dwarf_gulper_shark\" title=\"Dwarf gulper shark\">Dwarf gulper shark</a></li>\n<li><a href=\"/wiki/Dwarf_lanternshark\" title=\"Dwarf lanternshark\">Dwarf lanternshark</a></li>\n<li><a href=\"/wiki/Dwarf_sawtail_catshark\" title=\"Dwarf sawtail catshark\">Dwarf sawtail catshark</a></li>\n<li><a href=\"/wiki/Dwarf_smooth-hound\" title=\"Dwarf smooth-hound\">Dwarf smooth-hound</a></li>\n<li><a href=\"/wiki/Dwarf_spotted_wobbegong\" title=\"Dwarf spotted wobbegong\">Dwarf spotted wobbegong</a></li>\n</ul>\n"
     ]
    }
   ],
   "source": [
    "listOfSharks = alphaSort.findParent().findNextSiblings()[0].find_all(\"ul\")[3]\n",
    "print(listOfSharks)"
   ]
  },
  {
   "cell_type": "markdown",
   "metadata": {},
   "source": [
    "<span style=\"font-size:2em;\">e) Assign the url of the first shark that starts with 'D' to a variable called firstShark and print it out. (3 marks)"
   ]
  },
  {
   "cell_type": "code",
   "execution_count": 37,
   "metadata": {},
   "outputs": [
    {
     "name": "stdout",
     "output_type": "stream",
     "text": [
      "https://en.wikipedia.org/wiki/Daggernose_shark\n"
     ]
    }
   ],
   "source": [
    "firstShark = rootUrl + listOfSharks.find(\"li\").find(\"a\")[\"href\"]\n",
    "print(firstShark)"
   ]
  },
  {
   "cell_type": "markdown",
   "metadata": {},
   "source": [
    "<span style=\"font-size:2em;\">f) Use urlopen to open firstShark and parse it with BeautifulSoup. Assign the soup object to a variable called newSoup. (1 mark)"
   ]
  },
  {
   "cell_type": "code",
   "execution_count": 38,
   "metadata": {},
   "outputs": [],
   "source": [
    "newPage = urlopen(firstShark)\n",
    "newSoup = BeautifulSoup(newPage, \"html.parser\")"
   ]
  },
  {
   "cell_type": "markdown",
   "metadata": {},
   "source": [
    "<span style=\"font-size:2em;\">g) In newSoup, find the table with the class \"biota\". Print out the span with the class \"species\" in this table. (3 marks)"
   ]
  },
  {
   "cell_type": "code",
   "execution_count": 40,
   "metadata": {},
   "outputs": [
    {
     "name": "stdout",
     "output_type": "stream",
     "text": [
      "<span class=\"species\"><i><b>I. oxyrhynchus</b></i></span>\n"
     ]
    }
   ],
   "source": [
    "print(newSoup.find(\"table\", class_=\"biota\").find(\"span\", class_=\"species\"))"
   ]
  },
  {
   "cell_type": "markdown",
   "metadata": {},
   "source": [
    "<span style=\"font-size:2em;\">h) Create an empty list called \"species\". Loop through all the urls found in listOfSharks to extract out the name of the species of each page and append it to the list \"species\".\n",
    "\n",
    "<span style=\"font-size:2em;\">Print it out. (5 marks)"
   ]
  },
  {
   "cell_type": "code",
   "execution_count": 45,
   "metadata": {},
   "outputs": [
    {
     "name": "stdout",
     "output_type": "stream",
     "text": [
      "['I.\\xa0oxyrhynchus', 'S.\\xa0ugoi', 'H.\\xa0pictus', 'A.\\xa0profundorum', 'H.\\xa0abdita', 'E.\\xa0pycnolepis', 'S.\\xa0heteroptera', 'C.\\xa0isabellum', 'C.\\xa0harrissoni', 'B.\\xa0canescens', 'C.\\xa0obscurus', 'M.\\xa0canis', 'B.\\xa0naylori', 'S.\\xa0torrei', 'S.\\xa0torrei', 'P.\\xa0parini', 'C.\\xa0atromarginatus', 'E.\\xa0perryi', 'G.\\xa0schultzi', 'M.\\xa0minicanis', 'O.\\xa0parvimaculatus']\n"
     ]
    }
   ],
   "source": [
    "species = []\n",
    "\n",
    "theList = listOfSharks.find_all(\"li\")\n",
    "\n",
    "for item in theList:\n",
    "    eachUrl = urlopen(rootUrl + item.find('a')[\"href\"])\n",
    "    eachSoup = BeautifulSoup(eachUrl, \"html.parser\")\n",
    "    species.append(eachSoup.find(\"table\", class_=\"biota\").find(\"span\", class_=\"species\").text)\n",
    "\n",
    "print(species)"
   ]
  }
 ],
 "metadata": {
  "kernelspec": {
   "display_name": "Python 2",
   "language": "python",
   "name": "python2"
  },
  "language_info": {
   "codemirror_mode": {
    "name": "ipython",
    "version": 2
   },
   "file_extension": ".py",
   "mimetype": "text/x-python",
   "name": "python",
   "nbconvert_exporter": "python",
   "pygments_lexer": "ipython2",
   "version": "2.7.6"
  }
 },
 "nbformat": 4,
 "nbformat_minor": 0
}
